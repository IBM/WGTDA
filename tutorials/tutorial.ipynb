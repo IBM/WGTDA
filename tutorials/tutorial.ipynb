{
 "cells": [
  {
   "cell_type": "markdown",
   "metadata": {},
   "source": [
    "# WGTDA Tutorial\n",
    "\n",
    "This tutorial will guide you through using WGTDA to identify biomarkers for your gene expression data. \n",
    "\n",
    "## Steps of Tutorial\n",
    "1. Importing WGTDA modules.\n",
    "2. Load Gene expression data and apply preprocessing steps.\n",
    "\n",
    "    A. Load gene expression data\n",
    "\n",
    "    B. Filtering gene expression data from txt file.\n",
    "\n",
    "    C. Creating gene dictionary for simplicial complex.\n",
    "\n",
    "3. Compute Gene-Gene relationship matrix as input to simplicial complex\n",
    "\n",
    "    A. Compute Distance Correlation matrix\n",
    "\n",
    "    B. Compute Signed Topological Overlapping Measures matrix\n",
    "\n",
    "4. Construct the Vietoris-Rips Complex on the gene-gene relationship matrix.\n",
    "5. Filter non-informative topological features.\n",
    "\n",
    "    A. Remove features that persist to infinite.\n",
    "    \n",
    "    B. Remove features that do not persist across user-defined thereshold (noise).\n",
    "\n",
    "6. Identify Biomarkers using in-vitro and in vivo  methods such as Survival Analysis and  \n"
   ]
  },
  {
   "cell_type": "markdown",
   "metadata": {},
   "source": [
    "## Step 1: Import WGTDA Modules\n",
    "\n",
    "First, we need to import the necessary libraries from WGTDA. This includes persistent homology and simplicial complex functions, correlation matrix functions that include distance correlation and weighted topological overlapping measures and filters for the topological interactions.  "
   ]
  },
  {
   "cell_type": "code",
   "execution_count": 1,
   "metadata": {},
   "outputs": [],
   "source": [
    "import pandas as pd\n",
    "import numpy as np\n",
    "import ast\n",
    "from wgtda.correlation import compute_distance_correlation_matrix, compute_wto_matrix\n",
    "from wgtda.filters import extract_top_n_persistent_holes, remove_infinite_holes\n",
    "from wgtda import (\n",
    "    construct_vr_complex_rna_matrix,\n",
    "    interactions_dataframe,\n",
    "    filter_genes,\n",
    "    convert_gene_exp_to_array_and_dict,\n",
    "    flatten_gene_list,\n",
    ")\n",
    "from wgtda.networks import create_network_graph"
   ]
  },
  {
   "cell_type": "markdown",
   "metadata": {},
   "source": [
    "## Step 2: Load Gene expression data and apply preprocessing steps.\n",
    "\n",
    "    A. Load gene expression data.\n",
    "    B. Filtering gene expression data from txt file.\n",
    "    C. Creating gene dictionary for simplicial complex."
   ]
  },
  {
   "cell_type": "code",
   "execution_count": 2,
   "metadata": {},
   "outputs": [
    {
     "name": "stdout",
     "output_type": "stream",
     "text": [
      "Number of genes filtered:  51\n",
      "First 5 rows of gene expression data: \n",
      "gene_name    DVL2   CREBBP    E2F2   RALBP1   CTNNA1   LAMC3  CTNNA2   RASSF1  \\\n",
      "P1         4.0276   7.1788  2.1384  11.1616  65.2214  0.3504  0.0246   6.1498   \n",
      "P2         3.3894   9.2800  0.7042  14.3794  62.2928  0.3500  0.0053   5.3676   \n",
      "P3         5.3978  11.3675  1.3278  10.9282  77.2190  0.4100  0.0051   6.9546   \n",
      "P4         4.8691  10.3431  0.8642  15.3211  80.3090  1.3886  0.0000   5.2736   \n",
      "P5         3.1467   9.6298  3.8233   8.0495  61.6703  0.0417  0.0038  13.2769   \n",
      "\n",
      "gene_name  COL4A4     CRKL  ...    CSF1R     DCC   COL4A1   DAPK1  COL4A6  \\\n",
      "P1         0.1629  19.3946  ...  23.0582  0.1092  58.4540  2.7505  0.3275   \n",
      "P2         0.1032  21.6408  ...   3.8766  0.0228  46.3063  0.9933  0.1116   \n",
      "P3         0.1720  33.0858  ...   5.7958  0.0029  45.2401  1.8868  0.4610   \n",
      "P4         0.2019  11.9940  ...  10.8742  0.0133  66.1155  4.3019  0.9681   \n",
      "P5         0.3823  15.8862  ...  10.2689  0.0055  19.3364  1.9070  0.1620   \n",
      "\n",
      "gene_name  CSF2RA  CSF2RA    CHUK   CEBPA   EGLN2  \n",
      "P1         3.5531     0.0  4.1506  4.2414  0.6008  \n",
      "P2         0.6816     0.0  5.6266  4.4515  0.6487  \n",
      "P3         1.4327     0.0  6.9235  4.2415  0.6654  \n",
      "P4         2.0267     0.0  6.3643  2.0298  0.6196  \n",
      "P5         1.3276     0.0  8.6129  1.5144  0.5687  \n",
      "\n",
      "[5 rows x 51 columns]\n",
      "Gene Dictionary:  {0: 'DVL2', 1: 'CREBBP', 2: 'E2F2', 3: 'RALBP1', 4: 'CTNNA1', 5: 'LAMC3', 6: 'CTNNA2', 7: 'RASSF1', 8: 'COL4A4', 9: 'CRKL', 10: 'EP300', 11: 'E2F1', 12: 'CDK6', 13: 'DVL1', 14: 'CDKN1B', 15: 'FZD10', 16: 'E2F3', 17: 'TFG', 18: 'APC2', 19: 'EPAS1', 20: 'AKT3', 21: 'CSF3R', 22: 'CDK2', 23: 'CDKN1A', 24: 'EGLN3', 25: 'PIAS3', 26: 'COL4A2', 27: 'CDK4', 28: 'EGF', 29: 'ERBB2', 30: 'AKT1', 31: 'EGFR', 32: 'CDKN2B', 33: 'CDKN2A', 34: 'CTBP1', 35: 'DVL3', 36: 'CRK', 37: 'DAPK3', 38: 'CTNNB1', 39: 'CKS1B', 40: 'CTBP2', 41: 'CSF1R', 42: 'DCC', 43: 'COL4A1', 44: 'DAPK1', 45: 'COL4A6', 46: 'CSF2RA', 47: 'CSF2RA', 48: 'CHUK', 49: 'CEBPA', 50: 'EGLN2'}\n"
     ]
    }
   ],
   "source": [
    "# Load the gene expression data from a .pkl file\n",
    "gene_expression_df = pd.read_pickle(\"../data/TCGA/BRCA.pkl\")\n",
    "\n",
    "\n",
    "# Filter the gene expression data using the gene list from cancer_genes.txt\n",
    "gene_expression_filtered = filter_genes(\n",
    "    gene_expression_df, \"../data/preselection/cancer_genes.txt\"\n",
    ")\n",
    "\n",
    "gene_expression_filtered_array, gene_dict = convert_gene_exp_to_array_and_dict(\n",
    "    gene_expression_filtered\n",
    ")\n",
    "\n",
    "print(\"First 5 rows of gene expression data: \")\n",
    "print(gene_expression_filtered.head())\n",
    "print(\"Gene Dictionary: \", gene_dict)"
   ]
  },
  {
   "cell_type": "markdown",
   "metadata": {},
   "source": [
    "## Step 3: Compute gene-gene relationship matrix (distance correlation matrix or signed topological overlapping matrix)\n",
    "\n",
    "### Distance Correlation\n",
    "\n",
    "A gene-gene pairwise distance correlation matrix was computed from the gene expression data, capturing the statistical\n",
    "relationships between each pair of genes and providing a comprehensive view of their co-expression patterns.\n",
    "\n",
    "$ kME(i,M) = \\dfrac {cov(X_i ,X_m)} {\\sqrt{var(X_i)\\cdot var(X_m)}} $\n",
    "\n",
    "Where $ cov(X_i, X_M)$ is the covariance between the expression profile of gene $i$ (denoted as $X_i$) and the\n",
    "module eigengene $X_M$, $var(X_i)$ is the variance of the expression profile of gene $i$, and $var(X_M)$ is the\n",
    "variance of the module eigengene. A higher $kME$ value indicates a stronger correlation between the gene\n",
    "and the module eigengene, signifying the genes role as a hub gene within the network. Hub genes are pivotal in gene co-expression networks, significantly influencing the network structure. They serve as crucial\n",
    "biomarkers, representing collective expression dynamics. \n",
    "\n",
    "Here is how to use the Distance Correlation function:\n",
    "\n",
    "```python\n",
    "from wgtda.correlation import compute_distance_correlation_matrix\n",
    "distance_corr_matrix = compute_distance_correlation_matrix(gene_exp_arr=gene_expression_filtered)\n",
    "```"
   ]
  },
  {
   "cell_type": "code",
   "execution_count": 3,
   "metadata": {},
   "outputs": [
    {
     "name": "stdout",
     "output_type": "stream",
     "text": [
      "Distance Correlation Matrix:\n",
      " [[0.         0.78181019 0.83749928 ... 0.66437719 0.78486111 0.83344743]\n",
      " [0.78181019 0.         0.75006362 ... 0.48324453 0.71529892 0.69942692]\n",
      " [0.83749928 0.75006362 0.         ... 0.85965003 0.86740336 0.74244932]\n",
      " ...\n",
      " [0.66437719 0.48324453 0.85965003 ... 0.         0.71494494 0.83484625]\n",
      " [0.78486111 0.71529892 0.86740336 ... 0.71494494 0.         0.85443577]\n",
      " [0.83344743 0.69942692 0.74244932 ... 0.83484625 0.85443577 0.        ]]\n"
     ]
    }
   ],
   "source": [
    "# Compute the Distance Correlation matrix\n",
    "distance_corr_matrix = compute_distance_correlation_matrix(\n",
    "    gene_exp_arr=gene_expression_filtered_array\n",
    ")\n",
    "print(\"Distance Correlation Matrix:\\n\", distance_corr_matrix)\n",
    "np.savetxt(\n",
    "    \"relationship_matrices/brca_distance_correlation_matrix.csv\",\n",
    "    distance_corr_matrix,\n",
    "    delimiter=\",\",\n",
    ")"
   ]
  },
  {
   "cell_type": "markdown",
   "metadata": {},
   "source": [
    "### Signed Topological Overlaping Measures (wTO)\n",
    "\n",
    "Signed Weighted Topological Overlap Measures (wTO) combine information from both the correlation and the shared network neighborhood of gene pairs to provide a comprehensive view of the gene network structure. This method captures both direct and indirect interactions among genes, making it a robust metric for network analysis. \n",
    "\n",
    "$ wTO(i,j) = \\dfrac{W_{ij} + \\sum_k\\neq _i,_j W_{ik} \\cdot W_{kj}}{min(\\sum_k W_{ik}, \\sum_k W_{jk}) + 1 - W_{ij}} $ \n",
    "\n",
    "\n",
    "Here is how to use the Signed Topological Overlapping Measure function:\n",
    "\n",
    "```python\n",
    "from wgtda.correlation import compute_wto\n",
    "wto_matrix = compute_wto(gene_exp_arr=gene_expression_data)\n",
    "```"
   ]
  },
  {
   "cell_type": "code",
   "execution_count": 4,
   "metadata": {},
   "outputs": [
    {
     "name": "stdout",
     "output_type": "stream",
     "text": [
      "Signed Weighted Topological Overlap Matrix:\n",
      " [[0.         0.81705039 0.81497841 ... 0.81674432 0.82147021 0.82096926]\n",
      " [0.81705039 0.         0.75378727 ... 0.78384256 0.82335606 0.82125272]\n",
      " [0.81497841 0.75378727 0.         ... 0.76575251 0.81938775 0.82433349]\n",
      " ...\n",
      " [0.81674432 0.78384256 0.76575251 ... 0.         0.82352169 0.82087678]\n",
      " [0.82147021 0.82335606 0.81938775 ... 0.82352169 0.         0.82063723]\n",
      " [0.82096926 0.82125272 0.82433349 ... 0.82087678 0.82063723 0.        ]]\n"
     ]
    }
   ],
   "source": [
    "# Compute the Signed Weighted Topological Overlap (wTO) matrix\n",
    "wto_matrix = compute_wto_matrix(gene_exp_arr=gene_expression_filtered_array)\n",
    "print(\"Signed Weighted Topological Overlap Matrix:\\n\", wto_matrix)\n",
    "np.savetxt(\"relationship_matrices/brca_wto_matrix.csv\", wto_matrix, delimiter=\",\")"
   ]
  },
  {
   "cell_type": "markdown",
   "metadata": {},
   "source": [
    "## Step 4: Construct the Vietoris-Rips Complex on the gene-gene relationship matrix.\n",
    "\n",
    "A simplicial complex is a construct encompassing an array of interconnected elements, ranging from\n",
    "points to line segments, triangles, and their $n$-counterparts. Here, we utilize a Vietoris-Rips (VR) complex\n",
    "which is a simplicial complex where its $k$-simplices are defined by subsets of $(k + 1)$ points within a set $X$,\n",
    "each having a diameter that does not exceed a specified ϵ threshold.\n",
    "\n",
    "The identification of topological features using TDA is centered around persistent homology, a mathematical tool that employs persistence-based filtration. In persistent homology, a filtration process is applied\n",
    "to simplicial complexes using growing balls around each data point.  As these balls expand, the intersection\n",
    "of growing balls between adjacent data points results in the formation of edges, connecting the data points\n",
    "(Figure 1). This process continues, creating higher-dimensional simplices such as triangles and tetrahedra\n",
    "as the filtration progresses.\n",
    "\n",
    "Given a set of genes $X$ and a distance threshold $\\epsilon$, the Vietoris-Rips complex is a simplicial complex where:\n",
    "\n",
    "$ x_i $ is a vertex for each gene $x_i $  in $ X $.\n",
    "\n",
    "$ x_i, x_j$ is an edge if $d(x_i, x_j) \\leq \\epsilon $.\n",
    "\n",
    "$\\{x_{i_0}, x_{i_1}, \\ldots, x_{i_k}\\}$ is a $k$-simplex if $d(x_{i_j}, x_{i_l}) \\leq \\epsilon$ for all $0 \\leq j, l \\leq k$.\n",
    "\n",
    "1. Compute the distance matrix for the set of genes.\n",
    "2. Add vertices for each genes.\n",
    "3. Add edges for pairs of genes within the specified distance threshold.\n",
    "4. Add higher-dimensional simplices for sets of genes that are all pairwise within the specified distance threshold.\n",
    "\n",
    "The distance matrix $\\mathbf{D}$ for a set of genes $ X = \\{x_1, x_2, \\ldots, x_n\\}$ is given by:\n",
    "\n",
    "$\\mathbf{D}_{ij} = d(x_i, x_j) $\n",
    "\n",
    "where $d(x_i, x_j)$ is either the distance correlation or the signed topological overlapping between genes $x_i$ and $x_j$.\n",
    "\n",
    "```python\n",
    "persistence, ripscomplex = construct_vr_complex_rna_matrix(relationship_matrix)\n",
    "\n",
    "#interactions dataframe organises the topological features in a dataframe for post-analysis\n",
    "interactions = interactions_dataframe(persistence, rips_complex, gene_dict)\n",
    "```\n"
   ]
  },
  {
   "cell_type": "code",
   "execution_count": 5,
   "metadata": {},
   "outputs": [],
   "source": [
    "persistence, rips_complex = construct_vr_complex_rna_matrix(distance_corr_matrix)\n",
    "interactions = interactions_dataframe(persistence, rips_complex, gene_dict)"
   ]
  },
  {
   "cell_type": "markdown",
   "metadata": {},
   "source": [
    "## Step 5: Filter non-informative topological features \n",
    "\n",
    "We filter topological features with the aim to mitigate noise and highlighting more reliable topological patterns. This is done by two functions namely, ```remove_infinite_holes``` and ```extract_persistent_holes```. These functions take in the interactions dataframe and filter the topological features the user would like to focus on.\n",
    "\n",
    "\n",
    "```python\n",
    "from wgtda.filters import extract_persistent_holes, remove_infinite_holes\n",
    "\n",
    "\n",
    "# Remove the infinite holes first\n",
    "interactions_df = remove_infinite_holes(interactions_df)\n",
    "\n",
    "# Filter topological features to a user-defined n value (0<=100) 100 keeps all the topological featues.\n",
    "interactions_df = extract_top_n_persistent_holes(interactions_df,n=10)\n",
    "```\n",
    "\n"
   ]
  },
  {
   "cell_type": "code",
   "execution_count": 6,
   "metadata": {},
   "outputs": [],
   "source": [
    "# Remove the infinite holes first\n",
    "interactions = remove_infinite_holes(interactions)\n",
    "\n",
    "# Filter topological features to a user-defined n value (0<=100) 100 keeps all the topological featues.\n",
    "# In this example the user keeps the top 10% of persistent holes in the simplicial complex.\n",
    "interactions = extract_top_n_persistent_holes(interactions, n=10)"
   ]
  },
  {
   "cell_type": "code",
   "execution_count": 7,
   "metadata": {},
   "outputs": [
    {
     "name": "stdout",
     "output_type": "stream",
     "text": [
      "    interaction_id betti_number     birth     death  lifespan  \\\n",
      "47              47            0  0.000000  1.000000  1.000000   \n",
      "25              25            0  0.000000  0.744217  0.744217   \n",
      "14              14            0  0.000000  0.742740  0.742740   \n",
      "40              40            0  0.000000  0.737072  0.737072   \n",
      "45              45            0  0.000000  0.734656  0.734656   \n",
      "56              56            1  0.624772  0.731421  0.106648   \n",
      "55              55            1  0.621240  0.710859  0.089619   \n",
      "62              62            1  0.691618  0.774089  0.082472   \n",
      "86              86            2  0.734214  0.788065  0.053850   \n",
      "93              93            2  0.755899  0.802754  0.046855   \n",
      "107            107            2  0.794419  0.831165  0.036747   \n",
      "94              94            2  0.757163  0.792148  0.034986   \n",
      "\n",
      "                                              vertices  \\\n",
      "47                                                [47]   \n",
      "25                                                [25]   \n",
      "14                                                [14]   \n",
      "40                                                [40]   \n",
      "45                                                [45]   \n",
      "56   [52, 55, 58, 60, 61, 64, 68, 69, 72, 76, 85, 1...   \n",
      "55                       [52, 61, 65, 68, 72, 90, 185]   \n",
      "62   [52, 58, 60, 61, 64, 66, 68, 72, 76, 78, 85, 488]   \n",
      "86   [63, 113, 130, 162, 232, 289, 382, 496, 606, 6...   \n",
      "93   [92, 204, 357, 359, 396, 431, 526, 547, 583, 8...   \n",
      "107  [63, 74, 149, 359, 396, 443, 530, 641, 646, 72...   \n",
      "94   [143, 262, 301, 359, 396, 547, 583, 730, 759, ...   \n",
      "\n",
      "                                          vertices_set  \n",
      "47                                          [[CSF2RA]]  \n",
      "25                                           [[PIAS3]]  \n",
      "14                                          [[CDKN1B]]  \n",
      "40                                           [[CTBP2]]  \n",
      "45                                          [[COL4A6]]  \n",
      "56   [[CREBBP, EP300], [E2F1, CKS1B], [E2F3, CDKN2A...  \n",
      "55   [[CREBBP, EP300], [CREBBP, CSF2RA], [CSF1R, CS...  \n",
      "62   [[CREBBP, EP300], [E2F3, CDKN2A], [COL4A4, CSF...  \n",
      "86   [[CREBBP, EP300, CSF2RA], [COL4A4, EP300, CSF2...  \n",
      "93   [[E2F2, E2F1, CDKN2A], [E2F2, CDK6, CDKN2A], [...  \n",
      "107  [[CREBBP, EP300, CSF2RA], [CTNNA2, APC2, DCC],...  \n",
      "94   [[E2F2, CDK6, E2F3], [E2F2, E2F1, E2F3], [E2F1...  \n"
     ]
    }
   ],
   "source": [
    "print(interactions)"
   ]
  },
  {
   "cell_type": "markdown",
   "metadata": {},
   "source": [
    "## Step 6: Identify biomarkers from the topological interactions.\n",
    "\n",
    "Weighted Gene TDA (WGTDA) was implemented to identify novel biomarkers in gene expression data. WGTDA provides a topological perspective on the organization of gene expression networks, further deciphering the complexity embedded in sequence-based gene expression data. Survival analyses and topological network graphs on the identified gene signatures of both frameworks can be conducted to validate and establish the clinical relevance and utility of WGTDA and to identify biomarkers that are important for disease progression.\n",
    "\n",
    "### Survival Analysis \n",
    "Survival analysis plays an important role in biomedical research by validating gene sets through in silico methods, evaluating biomarkers crucial for predicting patient outcomes, and determining the relationship between gene expression levels and survival probabilities.\n",
    "\n",
    "![Surivial-Analysis](../docs/imgs/b1_luad_3.png)\n",
    "\n",
    "### Network Graphs \n",
    "Network graphs reveal how genes interact within biological systems, highlighting connectivity patterns that underpin biological processes. Network graphs provide intuitive visualisations of spatial relationships between genes, offering insights into physical proximity which relate to functional associations to unravel biological complexity.\n",
    "\n",
    "![Betti-1](../docs/imgs/Betti_1.png)\n",
    "![Betti-2](../docs/imgs/Betti_2.png)\n"
   ]
  },
  {
   "cell_type": "code",
   "execution_count": null,
   "metadata": {},
   "outputs": [],
   "source": []
  },
  {
   "cell_type": "code",
   "execution_count": null,
   "metadata": {},
   "outputs": [],
   "source": []
  }
 ],
 "metadata": {
  "kernelspec": {
   "display_name": "WGTDA",
   "language": "python",
   "name": "python3"
  },
  "language_info": {
   "codemirror_mode": {
    "name": "ipython",
    "version": 3
   },
   "file_extension": ".py",
   "mimetype": "text/x-python",
   "name": "python",
   "nbconvert_exporter": "python",
   "pygments_lexer": "ipython3",
   "version": "3.10.13"
  }
 },
 "nbformat": 4,
 "nbformat_minor": 2
}
